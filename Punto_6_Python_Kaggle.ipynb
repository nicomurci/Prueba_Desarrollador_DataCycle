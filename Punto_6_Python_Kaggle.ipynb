{
  "nbformat": 4,
  "nbformat_minor": 0,
  "metadata": {
    "colab": {
      "provenance": [],
      "include_colab_link": true
    },
    "kernelspec": {
      "name": "python3",
      "display_name": "Python 3"
    },
    "language_info": {
      "name": "python"
    }
  },
  "cells": [
    {
      "cell_type": "markdown",
      "metadata": {
        "id": "view-in-github",
        "colab_type": "text"
      },
      "source": [
        "<a href=\"https://colab.research.google.com/github/nicomurci/Prueba_Desarrollador_DataCycle/blob/main/Punto_6_Python_Kaggle.ipynb\" target=\"_parent\"><img src=\"https://colab.research.google.com/assets/colab-badge.svg\" alt=\"Open In Colab\"/></a>"
      ]
    },
    {
      "cell_type": "markdown",
      "source": [
        "<font color='blue'>**Punto 6 Python - Nombre Dataset: 'Airbnb Market Analysis & Real Estate Sales Data'**</font>\n",
        "\n",
        "<font color='blue'>**Nicolás Adolfo Castillo Betancourt - nacastillo@bancodeoccidente.com.co**</font>\n",
        "\n",
        "<font color='blue'>**https://www.kaggle.com/datasets/vrindakallu/new-york-dataset**</font>"
      ],
      "metadata": {
        "id": "qTuuuhxd5R1H"
      }
    },
    {
      "cell_type": "code",
      "execution_count": 2,
      "metadata": {
        "colab": {
          "base_uri": "https://localhost:8080/",
          "height": 470
        },
        "id": "t6xWSk6g2o3b",
        "outputId": "01fe23ba-ab86-4c5b-9cb6-782df15b7b2d"
      },
      "outputs": [
        {
          "output_type": "execute_result",
          "data": {
            "text/plain": [
              "                   id                                               name  \\\n",
              "0             1312228         Rental unit in Brooklyn · ★5.0 · 1 bedroom   \n",
              "1            45277537  Rental unit in New York · ★4.67 · 2 bedrooms ·...   \n",
              "2  971353993633883038  Rental unit in New York · ★4.17 · 1 bedroom · ...   \n",
              "\n",
              "     host_id host_name neighbourhood_group   neighbourhood   latitude  \\\n",
              "0    7130382    Walter            Brooklyn    Clinton Hill  40.683710   \n",
              "1   51501835  Jeniffer           Manhattan  Hell's Kitchen  40.766610   \n",
              "2  528871354    Joshua           Manhattan         Chelsea  40.750764   \n",
              "\n",
              "   longitude        room_type  price  ...  last_review  reviews_per_month  \\\n",
              "0 -73.964610     Private room   55.0  ...   2015-12-20               0.03   \n",
              "1 -73.988100  Entire home/apt  144.0  ...   2023-05-01               0.24   \n",
              "2 -73.994605  Entire home/apt  187.0  ...   2023-12-18               1.67   \n",
              "\n",
              "  calculated_host_listings_count  availability_365  number_of_reviews_ltm  \\\n",
              "0                              1                 0                      0   \n",
              "1                            139               364                      2   \n",
              "2                              1               343                      6   \n",
              "\n",
              "      license  rating bedrooms beds          baths  \n",
              "0  No License    5.0         1    1  Not specified  \n",
              "1  No License   4.67         2    1              1  \n",
              "2      Exempt   4.17         1    2              1  \n",
              "\n",
              "[3 rows x 22 columns]"
            ],
            "text/html": [
              "\n",
              "  <div id=\"df-3c38f27f-9212-4902-9ccc-487458977b92\" class=\"colab-df-container\">\n",
              "    <div>\n",
              "<style scoped>\n",
              "    .dataframe tbody tr th:only-of-type {\n",
              "        vertical-align: middle;\n",
              "    }\n",
              "\n",
              "    .dataframe tbody tr th {\n",
              "        vertical-align: top;\n",
              "    }\n",
              "\n",
              "    .dataframe thead th {\n",
              "        text-align: right;\n",
              "    }\n",
              "</style>\n",
              "<table border=\"1\" class=\"dataframe\">\n",
              "  <thead>\n",
              "    <tr style=\"text-align: right;\">\n",
              "      <th></th>\n",
              "      <th>id</th>\n",
              "      <th>name</th>\n",
              "      <th>host_id</th>\n",
              "      <th>host_name</th>\n",
              "      <th>neighbourhood_group</th>\n",
              "      <th>neighbourhood</th>\n",
              "      <th>latitude</th>\n",
              "      <th>longitude</th>\n",
              "      <th>room_type</th>\n",
              "      <th>price</th>\n",
              "      <th>...</th>\n",
              "      <th>last_review</th>\n",
              "      <th>reviews_per_month</th>\n",
              "      <th>calculated_host_listings_count</th>\n",
              "      <th>availability_365</th>\n",
              "      <th>number_of_reviews_ltm</th>\n",
              "      <th>license</th>\n",
              "      <th>rating</th>\n",
              "      <th>bedrooms</th>\n",
              "      <th>beds</th>\n",
              "      <th>baths</th>\n",
              "    </tr>\n",
              "  </thead>\n",
              "  <tbody>\n",
              "    <tr>\n",
              "      <th>0</th>\n",
              "      <td>1312228</td>\n",
              "      <td>Rental unit in Brooklyn · ★5.0 · 1 bedroom</td>\n",
              "      <td>7130382</td>\n",
              "      <td>Walter</td>\n",
              "      <td>Brooklyn</td>\n",
              "      <td>Clinton Hill</td>\n",
              "      <td>40.683710</td>\n",
              "      <td>-73.964610</td>\n",
              "      <td>Private room</td>\n",
              "      <td>55.0</td>\n",
              "      <td>...</td>\n",
              "      <td>2015-12-20</td>\n",
              "      <td>0.03</td>\n",
              "      <td>1</td>\n",
              "      <td>0</td>\n",
              "      <td>0</td>\n",
              "      <td>No License</td>\n",
              "      <td>5.0</td>\n",
              "      <td>1</td>\n",
              "      <td>1</td>\n",
              "      <td>Not specified</td>\n",
              "    </tr>\n",
              "    <tr>\n",
              "      <th>1</th>\n",
              "      <td>45277537</td>\n",
              "      <td>Rental unit in New York · ★4.67 · 2 bedrooms ·...</td>\n",
              "      <td>51501835</td>\n",
              "      <td>Jeniffer</td>\n",
              "      <td>Manhattan</td>\n",
              "      <td>Hell's Kitchen</td>\n",
              "      <td>40.766610</td>\n",
              "      <td>-73.988100</td>\n",
              "      <td>Entire home/apt</td>\n",
              "      <td>144.0</td>\n",
              "      <td>...</td>\n",
              "      <td>2023-05-01</td>\n",
              "      <td>0.24</td>\n",
              "      <td>139</td>\n",
              "      <td>364</td>\n",
              "      <td>2</td>\n",
              "      <td>No License</td>\n",
              "      <td>4.67</td>\n",
              "      <td>2</td>\n",
              "      <td>1</td>\n",
              "      <td>1</td>\n",
              "    </tr>\n",
              "    <tr>\n",
              "      <th>2</th>\n",
              "      <td>971353993633883038</td>\n",
              "      <td>Rental unit in New York · ★4.17 · 1 bedroom · ...</td>\n",
              "      <td>528871354</td>\n",
              "      <td>Joshua</td>\n",
              "      <td>Manhattan</td>\n",
              "      <td>Chelsea</td>\n",
              "      <td>40.750764</td>\n",
              "      <td>-73.994605</td>\n",
              "      <td>Entire home/apt</td>\n",
              "      <td>187.0</td>\n",
              "      <td>...</td>\n",
              "      <td>2023-12-18</td>\n",
              "      <td>1.67</td>\n",
              "      <td>1</td>\n",
              "      <td>343</td>\n",
              "      <td>6</td>\n",
              "      <td>Exempt</td>\n",
              "      <td>4.17</td>\n",
              "      <td>1</td>\n",
              "      <td>2</td>\n",
              "      <td>1</td>\n",
              "    </tr>\n",
              "  </tbody>\n",
              "</table>\n",
              "<p>3 rows × 22 columns</p>\n",
              "</div>\n",
              "    <div class=\"colab-df-buttons\">\n",
              "\n",
              "  <div class=\"colab-df-container\">\n",
              "    <button class=\"colab-df-convert\" onclick=\"convertToInteractive('df-3c38f27f-9212-4902-9ccc-487458977b92')\"\n",
              "            title=\"Convert this dataframe to an interactive table.\"\n",
              "            style=\"display:none;\">\n",
              "\n",
              "  <svg xmlns=\"http://www.w3.org/2000/svg\" height=\"24px\" viewBox=\"0 -960 960 960\">\n",
              "    <path d=\"M120-120v-720h720v720H120Zm60-500h600v-160H180v160Zm220 220h160v-160H400v160Zm0 220h160v-160H400v160ZM180-400h160v-160H180v160Zm440 0h160v-160H620v160ZM180-180h160v-160H180v160Zm440 0h160v-160H620v160Z\"/>\n",
              "  </svg>\n",
              "    </button>\n",
              "\n",
              "  <style>\n",
              "    .colab-df-container {\n",
              "      display:flex;\n",
              "      gap: 12px;\n",
              "    }\n",
              "\n",
              "    .colab-df-convert {\n",
              "      background-color: #E8F0FE;\n",
              "      border: none;\n",
              "      border-radius: 50%;\n",
              "      cursor: pointer;\n",
              "      display: none;\n",
              "      fill: #1967D2;\n",
              "      height: 32px;\n",
              "      padding: 0 0 0 0;\n",
              "      width: 32px;\n",
              "    }\n",
              "\n",
              "    .colab-df-convert:hover {\n",
              "      background-color: #E2EBFA;\n",
              "      box-shadow: 0px 1px 2px rgba(60, 64, 67, 0.3), 0px 1px 3px 1px rgba(60, 64, 67, 0.15);\n",
              "      fill: #174EA6;\n",
              "    }\n",
              "\n",
              "    .colab-df-buttons div {\n",
              "      margin-bottom: 4px;\n",
              "    }\n",
              "\n",
              "    [theme=dark] .colab-df-convert {\n",
              "      background-color: #3B4455;\n",
              "      fill: #D2E3FC;\n",
              "    }\n",
              "\n",
              "    [theme=dark] .colab-df-convert:hover {\n",
              "      background-color: #434B5C;\n",
              "      box-shadow: 0px 1px 3px 1px rgba(0, 0, 0, 0.15);\n",
              "      filter: drop-shadow(0px 1px 2px rgba(0, 0, 0, 0.3));\n",
              "      fill: #FFFFFF;\n",
              "    }\n",
              "  </style>\n",
              "\n",
              "    <script>\n",
              "      const buttonEl =\n",
              "        document.querySelector('#df-3c38f27f-9212-4902-9ccc-487458977b92 button.colab-df-convert');\n",
              "      buttonEl.style.display =\n",
              "        google.colab.kernel.accessAllowed ? 'block' : 'none';\n",
              "\n",
              "      async function convertToInteractive(key) {\n",
              "        const element = document.querySelector('#df-3c38f27f-9212-4902-9ccc-487458977b92');\n",
              "        const dataTable =\n",
              "          await google.colab.kernel.invokeFunction('convertToInteractive',\n",
              "                                                    [key], {});\n",
              "        if (!dataTable) return;\n",
              "\n",
              "        const docLinkHtml = 'Like what you see? Visit the ' +\n",
              "          '<a target=\"_blank\" href=https://colab.research.google.com/notebooks/data_table.ipynb>data table notebook</a>'\n",
              "          + ' to learn more about interactive tables.';\n",
              "        element.innerHTML = '';\n",
              "        dataTable['output_type'] = 'display_data';\n",
              "        await google.colab.output.renderOutput(dataTable, element);\n",
              "        const docLink = document.createElement('div');\n",
              "        docLink.innerHTML = docLinkHtml;\n",
              "        element.appendChild(docLink);\n",
              "      }\n",
              "    </script>\n",
              "  </div>\n",
              "\n",
              "\n",
              "<div id=\"df-3cb63f7c-752f-4ca9-8916-9dff5d2499f9\">\n",
              "  <button class=\"colab-df-quickchart\" onclick=\"quickchart('df-3cb63f7c-752f-4ca9-8916-9dff5d2499f9')\"\n",
              "            title=\"Suggest charts\"\n",
              "            style=\"display:none;\">\n",
              "\n",
              "<svg xmlns=\"http://www.w3.org/2000/svg\" height=\"24px\"viewBox=\"0 0 24 24\"\n",
              "     width=\"24px\">\n",
              "    <g>\n",
              "        <path d=\"M19 3H5c-1.1 0-2 .9-2 2v14c0 1.1.9 2 2 2h14c1.1 0 2-.9 2-2V5c0-1.1-.9-2-2-2zM9 17H7v-7h2v7zm4 0h-2V7h2v10zm4 0h-2v-4h2v4z\"/>\n",
              "    </g>\n",
              "</svg>\n",
              "  </button>\n",
              "\n",
              "<style>\n",
              "  .colab-df-quickchart {\n",
              "      --bg-color: #E8F0FE;\n",
              "      --fill-color: #1967D2;\n",
              "      --hover-bg-color: #E2EBFA;\n",
              "      --hover-fill-color: #174EA6;\n",
              "      --disabled-fill-color: #AAA;\n",
              "      --disabled-bg-color: #DDD;\n",
              "  }\n",
              "\n",
              "  [theme=dark] .colab-df-quickchart {\n",
              "      --bg-color: #3B4455;\n",
              "      --fill-color: #D2E3FC;\n",
              "      --hover-bg-color: #434B5C;\n",
              "      --hover-fill-color: #FFFFFF;\n",
              "      --disabled-bg-color: #3B4455;\n",
              "      --disabled-fill-color: #666;\n",
              "  }\n",
              "\n",
              "  .colab-df-quickchart {\n",
              "    background-color: var(--bg-color);\n",
              "    border: none;\n",
              "    border-radius: 50%;\n",
              "    cursor: pointer;\n",
              "    display: none;\n",
              "    fill: var(--fill-color);\n",
              "    height: 32px;\n",
              "    padding: 0;\n",
              "    width: 32px;\n",
              "  }\n",
              "\n",
              "  .colab-df-quickchart:hover {\n",
              "    background-color: var(--hover-bg-color);\n",
              "    box-shadow: 0 1px 2px rgba(60, 64, 67, 0.3), 0 1px 3px 1px rgba(60, 64, 67, 0.15);\n",
              "    fill: var(--button-hover-fill-color);\n",
              "  }\n",
              "\n",
              "  .colab-df-quickchart-complete:disabled,\n",
              "  .colab-df-quickchart-complete:disabled:hover {\n",
              "    background-color: var(--disabled-bg-color);\n",
              "    fill: var(--disabled-fill-color);\n",
              "    box-shadow: none;\n",
              "  }\n",
              "\n",
              "  .colab-df-spinner {\n",
              "    border: 2px solid var(--fill-color);\n",
              "    border-color: transparent;\n",
              "    border-bottom-color: var(--fill-color);\n",
              "    animation:\n",
              "      spin 1s steps(1) infinite;\n",
              "  }\n",
              "\n",
              "  @keyframes spin {\n",
              "    0% {\n",
              "      border-color: transparent;\n",
              "      border-bottom-color: var(--fill-color);\n",
              "      border-left-color: var(--fill-color);\n",
              "    }\n",
              "    20% {\n",
              "      border-color: transparent;\n",
              "      border-left-color: var(--fill-color);\n",
              "      border-top-color: var(--fill-color);\n",
              "    }\n",
              "    30% {\n",
              "      border-color: transparent;\n",
              "      border-left-color: var(--fill-color);\n",
              "      border-top-color: var(--fill-color);\n",
              "      border-right-color: var(--fill-color);\n",
              "    }\n",
              "    40% {\n",
              "      border-color: transparent;\n",
              "      border-right-color: var(--fill-color);\n",
              "      border-top-color: var(--fill-color);\n",
              "    }\n",
              "    60% {\n",
              "      border-color: transparent;\n",
              "      border-right-color: var(--fill-color);\n",
              "    }\n",
              "    80% {\n",
              "      border-color: transparent;\n",
              "      border-right-color: var(--fill-color);\n",
              "      border-bottom-color: var(--fill-color);\n",
              "    }\n",
              "    90% {\n",
              "      border-color: transparent;\n",
              "      border-bottom-color: var(--fill-color);\n",
              "    }\n",
              "  }\n",
              "</style>\n",
              "\n",
              "  <script>\n",
              "    async function quickchart(key) {\n",
              "      const quickchartButtonEl =\n",
              "        document.querySelector('#' + key + ' button');\n",
              "      quickchartButtonEl.disabled = true;  // To prevent multiple clicks.\n",
              "      quickchartButtonEl.classList.add('colab-df-spinner');\n",
              "      try {\n",
              "        const charts = await google.colab.kernel.invokeFunction(\n",
              "            'suggestCharts', [key], {});\n",
              "      } catch (error) {\n",
              "        console.error('Error during call to suggestCharts:', error);\n",
              "      }\n",
              "      quickchartButtonEl.classList.remove('colab-df-spinner');\n",
              "      quickchartButtonEl.classList.add('colab-df-quickchart-complete');\n",
              "    }\n",
              "    (() => {\n",
              "      let quickchartButtonEl =\n",
              "        document.querySelector('#df-3cb63f7c-752f-4ca9-8916-9dff5d2499f9 button');\n",
              "      quickchartButtonEl.style.display =\n",
              "        google.colab.kernel.accessAllowed ? 'block' : 'none';\n",
              "    })();\n",
              "  </script>\n",
              "</div>\n",
              "\n",
              "    </div>\n",
              "  </div>\n"
            ]
          },
          "metadata": {},
          "execution_count": 2
        }
      ],
      "source": [
        "# Importando dataset \"new_york_listings_2024.csv\"\n",
        "import pandas as pd\n",
        "df = pd.read_csv(\"sample_data/new_york_listings_2024.csv\")\n",
        "df.head(3)"
      ]
    },
    {
      "cell_type": "code",
      "source": [
        "# Verificando dimensiones del dataframe\n",
        "print(\"Número de filas y columnas:\", df.shape)"
      ],
      "metadata": {
        "colab": {
          "base_uri": "https://localhost:8080/"
        },
        "id": "KoqIBNMw_rO4",
        "outputId": "9baa3469-3bc1-41bb-be3a-5ff9f13c1efb"
      },
      "execution_count": 3,
      "outputs": [
        {
          "output_type": "stream",
          "name": "stdout",
          "text": [
            "Número de filas y columnas: (20758, 22)\n"
          ]
        }
      ]
    },
    {
      "cell_type": "code",
      "source": [
        "# Descripción general del DataFrame\n",
        "print(df.describe())"
      ],
      "metadata": {
        "colab": {
          "base_uri": "https://localhost:8080/"
        },
        "id": "8S5tqp3o_FxG",
        "outputId": "208eab85-7657-477b-8a5f-d2d487956fb9"
      },
      "execution_count": 4,
      "outputs": [
        {
          "output_type": "stream",
          "name": "stdout",
          "text": [
            "                 id       host_id      latitude     longitude          price  \\\n",
            "count  2.075800e+04  2.075800e+04  20758.000000  20758.000000   20758.000000   \n",
            "mean   3.034044e+17  1.749316e+08     40.726798    -73.939161     187.776616   \n",
            "std    3.901216e+17  1.725541e+08      0.060294      0.061403    1022.797208   \n",
            "min    2.595000e+03  1.678000e+03     40.500314    -74.249840      10.000000   \n",
            "25%    2.708808e+07  2.041738e+07     40.684150    -73.980710      80.000000   \n",
            "50%    4.993003e+07  1.087271e+08     40.722820    -73.949587     125.000000   \n",
            "75%    7.216019e+17  3.144102e+08     40.763098    -73.917460     199.000000   \n",
            "max    1.054376e+18  5.504035e+08     40.911147    -73.713650  100000.000000   \n",
            "\n",
            "       minimum_nights  number_of_reviews  reviews_per_month  \\\n",
            "count    20758.000000       20758.000000       20758.000000   \n",
            "mean        28.558435          42.642596           1.257910   \n",
            "std         33.536518          73.561654           1.904661   \n",
            "min          1.000000           1.000000           0.010000   \n",
            "25%         30.000000           4.000000           0.210000   \n",
            "50%         30.000000          14.000000           0.650000   \n",
            "75%         30.000000          49.000000           1.800000   \n",
            "max       1250.000000        1865.000000          75.490000   \n",
            "\n",
            "       calculated_host_listings_count  availability_365  \\\n",
            "count                    20758.000000      20758.000000   \n",
            "mean                        18.844108        205.990317   \n",
            "std                         70.910834        135.087768   \n",
            "min                          1.000000          0.000000   \n",
            "25%                          1.000000         87.000000   \n",
            "50%                          2.000000        215.000000   \n",
            "75%                          5.000000        353.000000   \n",
            "max                        713.000000        365.000000   \n",
            "\n",
            "       number_of_reviews_ltm          beds  \n",
            "count           20758.000000  20758.000000  \n",
            "mean               10.852105      1.723721  \n",
            "std                21.357071      1.212272  \n",
            "min                 0.000000      1.000000  \n",
            "25%                 1.000000      1.000000  \n",
            "50%                 3.000000      1.000000  \n",
            "75%                15.000000      2.000000  \n",
            "max              1075.000000     42.000000  \n"
          ]
        }
      ]
    },
    {
      "cell_type": "code",
      "source": [
        "# Validando los tipos de datos y los valores nulos en cada feature\n",
        "print(df.info())"
      ],
      "metadata": {
        "colab": {
          "base_uri": "https://localhost:8080/"
        },
        "id": "YhuFRJFF_lpe",
        "outputId": "cdc0d2bc-432f-4e0c-c06a-ffcdc40c3f01"
      },
      "execution_count": 5,
      "outputs": [
        {
          "output_type": "stream",
          "name": "stdout",
          "text": [
            "<class 'pandas.core.frame.DataFrame'>\n",
            "RangeIndex: 20758 entries, 0 to 20757\n",
            "Data columns (total 22 columns):\n",
            " #   Column                          Non-Null Count  Dtype  \n",
            "---  ------                          --------------  -----  \n",
            " 0   id                              20758 non-null  int64  \n",
            " 1   name                            20758 non-null  object \n",
            " 2   host_id                         20758 non-null  int64  \n",
            " 3   host_name                       20758 non-null  object \n",
            " 4   neighbourhood_group             20758 non-null  object \n",
            " 5   neighbourhood                   20758 non-null  object \n",
            " 6   latitude                        20758 non-null  float64\n",
            " 7   longitude                       20758 non-null  float64\n",
            " 8   room_type                       20758 non-null  object \n",
            " 9   price                           20758 non-null  float64\n",
            " 10  minimum_nights                  20758 non-null  int64  \n",
            " 11  number_of_reviews               20758 non-null  int64  \n",
            " 12  last_review                     20758 non-null  object \n",
            " 13  reviews_per_month               20758 non-null  float64\n",
            " 14  calculated_host_listings_count  20758 non-null  int64  \n",
            " 15  availability_365                20758 non-null  int64  \n",
            " 16  number_of_reviews_ltm           20758 non-null  int64  \n",
            " 17  license                         20758 non-null  object \n",
            " 18  rating                          20758 non-null  object \n",
            " 19  bedrooms                        20758 non-null  object \n",
            " 20  beds                            20758 non-null  int64  \n",
            " 21  baths                           20758 non-null  object \n",
            "dtypes: float64(4), int64(8), object(10)\n",
            "memory usage: 3.5+ MB\n",
            "None\n"
          ]
        }
      ]
    },
    {
      "cell_type": "code",
      "source": [
        "# Validando cantidad de datos Nulos\n",
        "datos_nulos = df.isnull().sum()\n",
        "print(datos_nulos)"
      ],
      "metadata": {
        "colab": {
          "base_uri": "https://localhost:8080/"
        },
        "id": "36q1xz6XAVvm",
        "outputId": "c3af6eff-4115-41b6-9cbc-5a59ea22ff87"
      },
      "execution_count": 6,
      "outputs": [
        {
          "output_type": "stream",
          "name": "stdout",
          "text": [
            "id                                0\n",
            "name                              0\n",
            "host_id                           0\n",
            "host_name                         0\n",
            "neighbourhood_group               0\n",
            "neighbourhood                     0\n",
            "latitude                          0\n",
            "longitude                         0\n",
            "room_type                         0\n",
            "price                             0\n",
            "minimum_nights                    0\n",
            "number_of_reviews                 0\n",
            "last_review                       0\n",
            "reviews_per_month                 0\n",
            "calculated_host_listings_count    0\n",
            "availability_365                  0\n",
            "number_of_reviews_ltm             0\n",
            "license                           0\n",
            "rating                            0\n",
            "bedrooms                          0\n",
            "beds                              0\n",
            "baths                             0\n",
            "dtype: int64\n"
          ]
        }
      ]
    },
    {
      "cell_type": "code",
      "source": [
        "# Verificando si se tienen datos duplicados\n",
        "duplicados = df[df.duplicated()]\n",
        "cantidad_filas_duplicadas = duplicados.shape[0]\n",
        "print(\"Cantidad de filas duplicadas:\", cantidad_filas_duplicadas)\n",
        "if cantidad_filas_duplicadas > 0:\n",
        "    print(\"Filas duplicadas:\")\n",
        "    print(duplicados)\n",
        "else:\n",
        "    print(\"No hay filas duplicadas.\")"
      ],
      "metadata": {
        "colab": {
          "base_uri": "https://localhost:8080/"
        },
        "id": "mb2rTyYSC5Im",
        "outputId": "c46a83cf-18b5-435f-8714-0901c5b3b43f"
      },
      "execution_count": 7,
      "outputs": [
        {
          "output_type": "stream",
          "name": "stdout",
          "text": [
            "Cantidad de filas duplicadas: 0\n",
            "No hay filas duplicadas.\n"
          ]
        }
      ]
    },
    {
      "cell_type": "code",
      "source": [
        "# Convirtiendo la columna \"last_review\" a tipo de dato de fecha\n",
        "df['last_review'] = pd.to_datetime(df['last_review'])"
      ],
      "metadata": {
        "id": "4UBYuzUZE8bK"
      },
      "execution_count": 8,
      "outputs": []
    },
    {
      "cell_type": "code",
      "source": [
        "# Validando los tipos de datos de \"rating\" con el fin de decidir el tipo de dato\n",
        "valores_aleatorios_rating = df['rating'].sample(n=5)\n",
        "# Mostrar los valores aleatorios\n",
        "print(\"Valores aleatorios en la columna 'rating':\")\n",
        "print(valores_aleatorios_rating)"
      ],
      "metadata": {
        "colab": {
          "base_uri": "https://localhost:8080/"
        },
        "id": "Yskh5YoIP2vh",
        "outputId": "6324bc24-f9e5-41dd-a2b5-b3423db5db0a"
      },
      "execution_count": 9,
      "outputs": [
        {
          "output_type": "stream",
          "name": "stdout",
          "text": [
            "Valores aleatorios en la columna 'rating':\n",
            "14560    No rating\n",
            "12998        4.82 \n",
            "11845    No rating\n",
            "19053        4.76 \n",
            "10466        4.68 \n",
            "Name: rating, dtype: object\n"
          ]
        }
      ]
    },
    {
      "cell_type": "code",
      "source": [
        "# Verificando la cantidad de datos no numericos \"No rating\"\n",
        "import matplotlib.pyplot as plt\n",
        "import seaborn as sns\n",
        "\n",
        "# Contar la cantidad de datos numéricos y no numéricos en la columna \"rating\"\n",
        "datos_numericos = df['rating'].apply(pd.to_numeric, errors='coerce')\n",
        "cantidad_numericos = datos_numericos.count()\n",
        "cantidad_no_numericos = len(df['rating']) - cantidad_numericos\n",
        "\n",
        "# Crear un gráfico de barras\n",
        "sns.barplot(x=['Datos Numéricos', 'Datos No Numéricos'], y=[cantidad_numericos, cantidad_no_numericos])\n",
        "\n",
        "# Añadir etiquetas encima de las barras\n",
        "for i, valor in enumerate([cantidad_numericos, cantidad_no_numericos]):\n",
        "    plt.text(i, valor + 100, str(valor), ha='center', va='bottom')\n",
        "\n",
        "plt.title('Cantidad de Datos Numéricos vs No Numéricos en la Columna \"rating\"')\n",
        "plt.ylabel('Cantidad de Datos')\n",
        "plt.show()\n",
        "\n"
      ],
      "metadata": {
        "colab": {
          "base_uri": "https://localhost:8080/",
          "height": 453
        },
        "id": "BQcBemycRe6K",
        "outputId": "77c30b9b-952c-408f-81b0-a2b53f4c5094"
      },
      "execution_count": 10,
      "outputs": [
        {
          "output_type": "display_data",
          "data": {
            "text/plain": [
              "<Figure size 640x480 with 1 Axes>"
            ],
            "image/png": "[encoded data removed]"
          },
          "metadata": {}
        }
      ]
    },
    {
      "cell_type": "code",
      "source": [
        "# Convirtiendo la columna \"rating\" a tipo de dato numérico y asignando NaN para los no numéricos \"No rating\"\n",
        "df['rating'] = pd.to_numeric(df['rating'], errors='coerce')"
      ],
      "metadata": {
        "id": "54_CI1AFFS45"
      },
      "execution_count": 11,
      "outputs": []
    },
    {
      "cell_type": "code",
      "source": [
        "# Convirtiendo la columna \"baths\" a tipo de dato numérico\n",
        "df['baths'] = pd.to_numeric(df['baths'], errors='coerce')"
      ],
      "metadata": {
        "id": "EWEa84yIF4hI"
      },
      "execution_count": 12,
      "outputs": []
    },
    {
      "cell_type": "code",
      "source": [
        "datos_nulos = df.isnull().sum()\n",
        "print(datos_nulos)"
      ],
      "metadata": {
        "colab": {
          "base_uri": "https://localhost:8080/"
        },
        "id": "hpx88fF9GBEJ",
        "outputId": "1a60c736-3d08-4603-d7f5-a144d4988dc0"
      },
      "execution_count": 13,
      "outputs": [
        {
          "output_type": "stream",
          "name": "stdout",
          "text": [
            "id                                   0\n",
            "name                                 0\n",
            "host_id                              0\n",
            "host_name                            0\n",
            "neighbourhood_group                  0\n",
            "neighbourhood                        0\n",
            "latitude                             0\n",
            "longitude                            0\n",
            "room_type                            0\n",
            "price                                0\n",
            "minimum_nights                       0\n",
            "number_of_reviews                    0\n",
            "last_review                          0\n",
            "reviews_per_month                    0\n",
            "calculated_host_listings_count       0\n",
            "availability_365                     0\n",
            "number_of_reviews_ltm                0\n",
            "license                              0\n",
            "rating                            3752\n",
            "bedrooms                             0\n",
            "beds                                 0\n",
            "baths                               13\n",
            "dtype: int64\n"
          ]
        }
      ]
    },
    {
      "cell_type": "code",
      "source": [
        "# Calcular el número total de datos en la columna \"rating\"\n",
        "total_datos_rating = len(df['rating'])\n",
        "# Contar la cantidad de valores nulos en la columna \"rating\"\n",
        "datos_nulos_rating = df['rating'].isnull().sum()\n",
        "# Calcular el porcentaje de valores nulos en la columna \"rating\"\n",
        "porcentaje_nulos_rating = (datos_nulos_rating / total_datos_rating) * 100\n",
        "print(f\"Porcentaje de valores nulos en la columna 'rating': {porcentaje_nulos_rating:.2f}%\")\n"
      ],
      "metadata": {
        "colab": {
          "base_uri": "https://localhost:8080/"
        },
        "id": "B8HSXxzIHVSW",
        "outputId": "db00a2c1-cf70-46a1-9c6c-2f6256eb3077"
      },
      "execution_count": 14,
      "outputs": [
        {
          "output_type": "stream",
          "name": "stdout",
          "text": [
            "Porcentaje de valores nulos en la columna 'rating': 18.07%\n"
          ]
        }
      ]
    },
    {
      "cell_type": "markdown",
      "source": [
        "<font color='blue'>**Análisis Técnico**</font>\n",
        "\n",
        "La decisión de eliminar la columna 'Rating' se fundamenta en la presencia de un porcentaje de valores nulos superior al 7%. En este contexto, la aplicación de técnicas de imputación se percibe como poco adecuada. La eliminación de dicha columna se considera una medida que contribuye a preservar la integridad y la coherencia de los datos."
      ],
      "metadata": {
        "id": "sVykAIdcH1pB"
      }
    },
    {
      "cell_type": "code",
      "source": [
        "# Eliminación de feature \"rating\"\n",
        "df = df.drop(columns=['rating'])"
      ],
      "metadata": {
        "id": "NnPDqnneH-jv"
      },
      "execution_count": 15,
      "outputs": []
    },
    {
      "cell_type": "code",
      "source": [
        "# Calcular el número total de datos en la columna \"baths\"\n",
        "total_datos_baths = len(df['baths'])\n",
        "# Contar la cantidad de valores nulos en la columna \"rating\"\n",
        "datos_nulos_baths = df['baths'].isnull().sum()\n",
        "# Calcular el porcentaje de valores nulos en la columna \"rating\"\n",
        "porcentaje_nulos_baths = (datos_nulos_baths / total_datos_baths) * 100\n",
        "print(f\"Porcentaje de valores nulos en la columna 'baths': {porcentaje_nulos_baths:.2f}%\")\n"
      ],
      "metadata": {
        "colab": {
          "base_uri": "https://localhost:8080/"
        },
        "id": "sxBtuZCNN5pI",
        "outputId": "d318316f-eaf1-43ed-8a54-91a4a92e6a62"
      },
      "execution_count": 16,
      "outputs": [
        {
          "output_type": "stream",
          "name": "stdout",
          "text": [
            "Porcentaje de valores nulos en la columna 'baths': 0.06%\n"
          ]
        }
      ]
    },
    {
      "cell_type": "markdown",
      "source": [
        "Se realiza una imputación utilizando la media para completar los datos de la característica 'baths'. Esta elección se basa en la presencia de un porcentaje insignificante de datos faltantes en dicha característica."
      ],
      "metadata": {
        "id": "goZR4nX-UUJq"
      }
    },
    {
      "cell_type": "code",
      "source": [
        "# Convirtiendo \"baths\" a tipo de dato numérico y manejar \"Not specified\" como NaN\n",
        "df['baths'] = pd.to_numeric(df['baths'], errors='coerce')\n",
        "# Calculando la media de la columna \"baths\"\n",
        "media_baths = df['baths'].mean()\n",
        "# Imputando los valores faltantes con la media\n",
        "df['baths'] = df['baths'].fillna(media_baths)"
      ],
      "metadata": {
        "id": "Pv76HKujIE-A"
      },
      "execution_count": 17,
      "outputs": []
    },
    {
      "cell_type": "code",
      "source": [
        "# Verificando nuevamente cantidad de datos Nulos\n",
        "datos_nulos = df.isnull().sum()\n",
        "print(datos_nulos)"
      ],
      "metadata": {
        "colab": {
          "base_uri": "https://localhost:8080/"
        },
        "id": "8gobp_HuIRK4",
        "outputId": "a527da10-6df5-4a3f-ba8d-443d98a26cb7"
      },
      "execution_count": 18,
      "outputs": [
        {
          "output_type": "stream",
          "name": "stdout",
          "text": [
            "id                                0\n",
            "name                              0\n",
            "host_id                           0\n",
            "host_name                         0\n",
            "neighbourhood_group               0\n",
            "neighbourhood                     0\n",
            "latitude                          0\n",
            "longitude                         0\n",
            "room_type                         0\n",
            "price                             0\n",
            "minimum_nights                    0\n",
            "number_of_reviews                 0\n",
            "last_review                       0\n",
            "reviews_per_month                 0\n",
            "calculated_host_listings_count    0\n",
            "availability_365                  0\n",
            "number_of_reviews_ltm             0\n",
            "license                           0\n",
            "bedrooms                          0\n",
            "beds                              0\n",
            "baths                             0\n",
            "dtype: int64\n"
          ]
        }
      ]
    },
    {
      "cell_type": "code",
      "source": [
        "# Validando los datos posterior a las modificaciones de features\n",
        "print(df.info())"
      ],
      "metadata": {
        "colab": {
          "base_uri": "https://localhost:8080/"
        },
        "id": "k3C-k95RLujA",
        "outputId": "5ef4d327-7592-48de-de43-93b7f7ef15e5"
      },
      "execution_count": 19,
      "outputs": [
        {
          "output_type": "stream",
          "name": "stdout",
          "text": [
            "<class 'pandas.core.frame.DataFrame'>\n",
            "RangeIndex: 20758 entries, 0 to 20757\n",
            "Data columns (total 21 columns):\n",
            " #   Column                          Non-Null Count  Dtype         \n",
            "---  ------                          --------------  -----         \n",
            " 0   id                              20758 non-null  int64         \n",
            " 1   name                            20758 non-null  object        \n",
            " 2   host_id                         20758 non-null  int64         \n",
            " 3   host_name                       20758 non-null  object        \n",
            " 4   neighbourhood_group             20758 non-null  object        \n",
            " 5   neighbourhood                   20758 non-null  object        \n",
            " 6   latitude                        20758 non-null  float64       \n",
            " 7   longitude                       20758 non-null  float64       \n",
            " 8   room_type                       20758 non-null  object        \n",
            " 9   price                           20758 non-null  float64       \n",
            " 10  minimum_nights                  20758 non-null  int64         \n",
            " 11  number_of_reviews               20758 non-null  int64         \n",
            " 12  last_review                     20758 non-null  datetime64[ns]\n",
            " 13  reviews_per_month               20758 non-null  float64       \n",
            " 14  calculated_host_listings_count  20758 non-null  int64         \n",
            " 15  availability_365                20758 non-null  int64         \n",
            " 16  number_of_reviews_ltm           20758 non-null  int64         \n",
            " 17  license                         20758 non-null  object        \n",
            " 18  bedrooms                        20758 non-null  object        \n",
            " 19  beds                            20758 non-null  int64         \n",
            " 20  baths                           20758 non-null  float64       \n",
            "dtypes: datetime64[ns](1), float64(5), int64(8), object(7)\n",
            "memory usage: 3.3+ MB\n",
            "None\n"
          ]
        }
      ]
    },
    {
      "cell_type": "markdown",
      "source": [
        "<font color='blue'>**Proceso de creación de la columna AVG**</font>"
      ],
      "metadata": {
        "id": "4dSriTV6VSy0"
      }
    },
    {
      "cell_type": "code",
      "source": [
        "# Asignando columnas a promediar\n",
        "columna1 = df['price']\n",
        "columna2 = df['availability_365']\n",
        "df['AVG'] = (columna1 + columna2) / 2\n",
        "print(df.head())"
      ],
      "metadata": {
        "colab": {
          "base_uri": "https://localhost:8080/"
        },
        "id": "ary0jDvSLzt4",
        "outputId": "85102602-e5b2-44ee-a935-36f138746f0a"
      },
      "execution_count": 20,
      "outputs": [
        {
          "output_type": "stream",
          "name": "stdout",
          "text": [
            "                   id                                               name  \\\n",
            "0             1312228         Rental unit in Brooklyn · ★5.0 · 1 bedroom   \n",
            "1            45277537  Rental unit in New York · ★4.67 · 2 bedrooms ·...   \n",
            "2  971353993633883038  Rental unit in New York · ★4.17 · 1 bedroom · ...   \n",
            "3             3857863  Rental unit in New York · ★4.64 · 1 bedroom · ...   \n",
            "4            40896611  Condo in New York · ★4.91 · Studio · 1 bed · 1...   \n",
            "\n",
            "     host_id           host_name neighbourhood_group       neighbourhood  \\\n",
            "0    7130382              Walter            Brooklyn        Clinton Hill   \n",
            "1   51501835            Jeniffer           Manhattan      Hell's Kitchen   \n",
            "2  528871354              Joshua           Manhattan             Chelsea   \n",
            "3   19902271  John And Catherine           Manhattan  Washington Heights   \n",
            "4   61391963      Stay With Vibe           Manhattan         Murray Hill   \n",
            "\n",
            "    latitude  longitude        room_type  price  ...  last_review  \\\n",
            "0  40.683710 -73.964610     Private room   55.0  ...   2015-12-20   \n",
            "1  40.766610 -73.988100  Entire home/apt  144.0  ...   2023-05-01   \n",
            "2  40.750764 -73.994605  Entire home/apt  187.0  ...   2023-12-18   \n",
            "3  40.835600 -73.942500     Private room  120.0  ...   2023-09-17   \n",
            "4  40.751120 -73.978600  Entire home/apt   85.0  ...   2023-12-03   \n",
            "\n",
            "   reviews_per_month calculated_host_listings_count  availability_365  \\\n",
            "0               0.03                              1                 0   \n",
            "1               0.24                            139               364   \n",
            "2               1.67                              1               343   \n",
            "3               1.38                              2               363   \n",
            "4               0.24                            133               335   \n",
            "\n",
            "   number_of_reviews_ltm     license  bedrooms beds     baths    AVG  \n",
            "0                      0  No License         1    1  1.177995   27.5  \n",
            "1                      2  No License         2    1  1.000000  254.0  \n",
            "2                      6      Exempt         1    2  1.000000  265.0  \n",
            "3                     12  No License         1    1  1.000000  241.5  \n",
            "4                      3  No License    Studio    1  1.000000  210.0  \n",
            "\n",
            "[5 rows x 22 columns]\n"
          ]
        }
      ]
    },
    {
      "cell_type": "markdown",
      "source": [
        "<font color='blue'>**Conversión de DataFrame a Formato Parquet**</font>"
      ],
      "metadata": {
        "id": "eyKJfFGyMMnw"
      }
    },
    {
      "cell_type": "code",
      "source": [
        "# Conversión a formato parquet\n",
        "df.to_parquet(\"sample_data/new_york.parquet\", index=False)"
      ],
      "metadata": {
        "id": "NbAAWVv9Me0R"
      },
      "execution_count": 21,
      "outputs": []
    }
  ]
}